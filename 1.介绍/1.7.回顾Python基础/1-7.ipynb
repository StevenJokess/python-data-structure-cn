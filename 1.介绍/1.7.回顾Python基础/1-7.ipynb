{
 "cells": [
  {
   "cell_type": "markdown",
   "metadata": {},
   "source": [
    "## 1.7.回顾Python基础\n",
    "\n",
    "在本节中，我们将回顾 Python 编程语言，并提供一些更详细的例子。 如果你是 Python 新手，或者你需要有关提出的任何主题的更多信息，我们建议你参考 [Python语言参考](https://docs.python.org/3/reference/index.html)或 [Python教程](https://docs.python.org/3/tutorial/index.html)。我们在这里的目标是重新认识下 python 语言，并强化一些将成为后面章节中心的概念。\n",
    "\n",
    "Python 是一种现代的，易于学习的面向对象的编程语言。 它具有一组强大的内置数据类型和易于使用的控件结构。 由于Python是 一种解释型语言，因此通过简单地查看和描述交互式会话，更容易进行检查。 你应该记得，解释器显示熟悉的`>>>` 提示，然后计算你提供的 Python 语句。 例如，\n"
   ]
  },
  {
   "cell_type": "code",
   "execution_count": 1,
   "metadata": {
    "tags": []
   },
   "outputs": [
    {
     "output_type": "stream",
     "name": "stdout",
     "text": "Algorithms and Data Structures\n"
    }
   ],
   "source": [
    "print(\"Algorithms and Data Structures\")"
   ]
  },
  {
   "cell_type": "markdown",
   "metadata": {},
   "source": [
    "显示提示，打印结果和下一个提示。"
   ]
  }
 ],
 "metadata": {
  "language_info": {
   "codemirror_mode": {
    "name": "ipython",
    "version": 3
   },
   "file_extension": ".py",
   "mimetype": "text/x-python",
   "name": "python",
   "nbconvert_exporter": "python",
   "pygments_lexer": "ipython3",
   "version": "3.7.6-final"
  },
  "orig_nbformat": 2,
  "kernelspec": {
   "name": "python37664bitpytorchconda0cdad03962454fdfb22b6d3ea1ad8fae",
   "display_name": "Python 3.7.6 64-bit ('pytorch': conda)"
  }
 },
 "nbformat": 4,
 "nbformat_minor": 2
}